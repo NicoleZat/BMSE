{
 "cells": [
  {
   "cell_type": "markdown",
   "metadata": {},
   "source": [
    "Chapter 7: Classes\n",
    "=============================\n",
    "\n",
    "**[Arthur Goldberg](https://www.mountsinai.org/profiles/arthur-p-goldberg)**\n",
    "\n",
    "This notebook was created for the [Biomedical Software Engineering](https://learn.mssm.edu/webapps/blackboard/content/listContentEditable.jsp?content_id=_448512_1&course_id=_5776_1 \"Biomedical Software Engineering Blackboard site\") course at the [Mount Sinai School of Medicine](https://icahn.mssm.edu/).\n"
   ]
  },
  {
   "cell_type": "markdown",
   "metadata": {},
   "source": [
    "A `class` combines code and data.\n",
    "\n",
    "This example declares and uses a class called `Person`. Note the following:\n",
    "+ class definitions begin with the keyword `class`\n",
    "+ every Python class *inherits* functionality from at least one *base* class; in this example the base class is Python's built-in `object` class; we will return to inheritance later\n",
    "+ a class definition may contain arbitrarily many functions, which are called *methods*\n",
    "+ the name of a class becomes a `constructor` that creates and returns *instances* (individual *objects*) of the class\n",
    "+ a class' `__init__` function defines the constructor's initialization behavior -- its parameters and code\n",
    "+ in a class' methods, the first parameter is, by convention, `self`, which refers to the class' instance; more on methods later\n",
    "+ the construct `self.name` refers to an *attribute* of a class; attributes can be written and read, and store data and functions (which are data themselves)\n",
    "+ by convention ([PEP8](https://www.python.org/dev/peps/pep-0008/?)) class names are written in `CamelCase` style, whereas methods and attributes are written in `lower_case_with_underscore` style\n",
    "\n",
    "Also note that executing a Jupyter cell prints the return value of the last statement in the cell."
   ]
  },
  {
   "cell_type": "code",
   "execution_count": 5,
   "metadata": {},
   "outputs": [
    {
     "data": {
      "text/plain": [
       "'Arthur Goldberg'"
      ]
     },
     "execution_count": 5,
     "metadata": {},
     "output_type": "execute_result"
    }
   ],
   "source": [
    "class Person(object):\n",
    "    def __init__(self, first_name, last_name):\n",
    "        self.first_name = first_name\n",
    "        self.last_name = last_name\n",
    "\n",
    "    def whole_name(self):\n",
    "        return self.first_name + ' ' + self.last_name\n",
    "\n",
    "arthur_goldberg = Person('Arthur', 'Goldberg')\n",
    "arthur_goldberg.whole_name()"
   ]
  },
  {
   "cell_type": "markdown",
   "metadata": {},
   "source": [
    "More observations:\n",
    "+ arbitrarily many instances can be created\n",
    "+ user-defined classes are `class` instances, just like built-in classes\n",
    "+ insances of user-defined classes can be used just like instances of built-in classes\n",
    "+ printing (converting to a string and outputting to standard out) a user defined class is not very informative"
   ]
  },
  {
   "cell_type": "code",
   "execution_count": 10,
   "metadata": {},
   "outputs": [
    {
     "name": "stdout",
     "output_type": "stream",
     "text": [
      "Dennis Charney\n",
      "Person: <class '__main__.Person'>\n",
      "list: <class 'list'>\n",
      "first_name: arthur ; person.whole_name(): Arthur Goldberg ; person.last_name: Goldberg\n",
      "first_name: dennis ; person.whole_name(): Dennis Charney ; person.last_name: Charney\n",
      "dean: <__main__.Person object at 0x7faee868b470>\n"
     ]
    }
   ],
   "source": [
    "dean = Person('Dennis', 'Charney')\n",
    "print(dean.whole_name())\n",
    "\n",
    "# what are Person and list\n",
    "print('Person:', Person)\n",
    "print('list:', list)   # some built-in classes do not follow CamelCase\n",
    "\n",
    "# a dict of Persons\n",
    "people = {\n",
    "    'arthur': arthur_goldberg,\n",
    "    'dennis': dean\n",
    "}\n",
    "for first_name, person in people.items():\n",
    "    print('first_name:', first_name, '; person.whole_name():', person.whole_name(),\n",
    "          '; person.last_name:', person.last_name)\n",
    "print('dean:', dean)"
   ]
  },
  {
   "cell_type": "markdown",
   "metadata": {},
   "source": [
    "Let's make a more interesting `Person`. New features and approaches:\n",
    "+ it's important to validate input; errors should be reported by raising `exceptions`; coming soon\n",
    "+ a method decorated by `@staticmethod` like `initial_capital` is a method that doesn't access the instance in `self`; instead, it's just a function in a class; read about `decorators` please\n",
    "+ a method decorated by `@classmethod` like `validate_names` is a method that takes a reference to its `class` as its first argument\n",
    "+ what does `map` in `validate_age_dob` do?\n",
    "+ `validate_age_dob` returns a tuple of `(error, value)`, which is easy to use\n",
    "+ when I take code from stackoverflow I cite it\n",
    "+ `Person` is still vulnerable to bad input; what would `Person('', 'last', 0, '2000-01-01')` or `Person('first', 'last', 0, '2000-01-X')` do?"
   ]
  },
  {
   "cell_type": "code",
   "execution_count": 33,
   "metadata": {},
   "outputs": [
    {
     "name": "stdout",
     "output_type": "stream",
     "text": [
      "[\"error: 'not capitalized' is missing an initial capital letter\"]\n",
      "age and DOB are invalid; X Y is actually older\n",
      "name: Arthur Goldberg; age: 63\n"
     ]
    }
   ],
   "source": [
    "import datetime # date and time handling package in the standard library\n",
    "\n",
    "class Person(object):\n",
    "    def __init__(self, first_name, last_name, age, date_of_birth):\n",
    "        # date_of_birth in YYYY-MM-DD format\n",
    "        errors = self.validate_names([first_name, last_name])\n",
    "        if errors:\n",
    "            print(errors)   # better to raise an exception; coming later\n",
    "            return\n",
    "        self.first_name = first_name\n",
    "        self.last_name = last_name\n",
    "\n",
    "        error, dob_instance = self.validate_age_dob(age, date_of_birth)\n",
    "        if error:   # better to raise an exception\n",
    "            print('age and DOB are invalid; {} {} is'.format(first_name, last_name), error)\n",
    "            return\n",
    "        self.date_of_birth = dob_instance\n",
    "\n",
    "    @staticmethod\n",
    "    def initial_capital(name):\n",
    "        return name[:1].isupper()\n",
    "\n",
    "    @classmethod\n",
    "    def validate_names(cls, names):\n",
    "        errors = []\n",
    "        for name in names:\n",
    "            if not cls.initial_capital(name):\n",
    "                errors.append(\"error: '{}' is missing an initial capital letter\".format(name))\n",
    "        return errors\n",
    "\n",
    "    @classmethod\n",
    "    def validate_age_dob(cls, age, dob):\n",
    "        year, month, day = map(int, dob.split('-'))\n",
    "        dob_instance = datetime.date(year, month, day)\n",
    "        actual_age = datetime.date.today().year - dob_instance.year\n",
    "        if actual_age < age:\n",
    "            return ('actually younger', None)\n",
    "        if age < actual_age:\n",
    "            return ('actually older', None)\n",
    "        return (False, dob_instance)\n",
    "\n",
    "    def age(self):\n",
    "        today = datetime.date.today()\n",
    "        # from https://stackoverflow.com/a/9754466/509882:\n",
    "        return today.year - self.date_of_birth.year - ((today.month, today.day) < (self.date_of_birth.month, self.date_of_birth.day))\n",
    "\n",
    "    def whole_name(self):\n",
    "        return self.first_name + ' ' + self.last_name\n",
    "\n",
    "    def __str__(self):\n",
    "        attributes = []\n",
    "        attributes.append('name: ' + self.whole_name())\n",
    "        attributes.append('age: {}'.format(self.age()))\n",
    "        return '; '.join(attributes)\n",
    "\n",
    "Person('not capitalized', 'Goldberg', 0, '2000-01-01')\n",
    "Person('X', 'Y', 50, '1965-01-01')\n",
    "prof = Person('Arthur', 'Goldberg', 63, '1955-08-17')\n",
    "print(prof)"
   ]
  },
  {
   "cell_type": "code",
   "execution_count": null,
   "metadata": {},
   "outputs": [],
   "source": []
  }
 ],
 "metadata": {
  "kernelspec": {
   "display_name": "Python 3",
   "language": "python",
   "name": "python3"
  },
  "language_info": {
   "codemirror_mode": {
    "name": "ipython",
    "version": 3
   },
   "file_extension": ".py",
   "mimetype": "text/x-python",
   "name": "python",
   "nbconvert_exporter": "python",
   "pygments_lexer": "ipython3",
   "version": "3.6.5"
  }
 },
 "nbformat": 4,
 "nbformat_minor": 2
}
