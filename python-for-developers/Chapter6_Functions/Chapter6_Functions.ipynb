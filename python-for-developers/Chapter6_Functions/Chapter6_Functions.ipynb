{
 "cells": [
  {
   "cell_type": "markdown",
   "metadata": {},
   "source": [
    "Ricardo Duarte, [Python for Developers](http://ricardoduarte.github.io/python-for-developers/#content \"Python for Developers on GitHub\")\n",
    "==========================\n",
    "\n",
    "**Adapted by [Arthur Goldberg](https://www.mountsinai.org/profiles/arthur-p-goldberg) for the [Biomedical Software Engineering](https://learn.mssm.edu/webapps/blackboard/content/listContentEditable.jsp?content_id=_448512_1&course_id=_5776_1 \"Biomedical Software Engineering Blackboard site\") course at the Mount Sinai School of Medicine**\n",
    "\n",
    "Chapter 6: Functions\n",
    "=============================\n",
    "_____________________________\n",
    "\n",
    "A function is a block of code identified by a name. The keyword `def` defines a function."
   ]
  },
  {
   "cell_type": "code",
   "execution_count": 1,
   "metadata": {},
   "outputs": [
    {
     "name": "stdout",
     "output_type": "stream",
     "text": [
      "<function f at 0x7fa5f830e7b8> ; f's name: f\n"
     ]
    }
   ],
   "source": [
    "# define a minimal function\n",
    "# the statement 'pass' does nothing\n",
    "def f():\n",
    "    pass\n",
    "# function definitions are python objects\n",
    "print(f, \"; f's name:\", f.__name__)\n",
    "# calling f does nothing\n",
    "f()"
   ]
  },
  {
   "cell_type": "markdown",
   "metadata": {},
   "source": [
    "A function definition can declare parameters, which are names of objects that can be passed in by calls to the function. Functions that take parameters can be very useful, becaue they can be widely reused."
   ]
  },
  {
   "cell_type": "code",
   "execution_count": 2,
   "metadata": {},
   "outputs": [
    {
     "name": "stdout",
     "output_type": "stream",
     "text": [
      "longest([]): (None, 0)\n",
      "longest(['', '333', '1', '55555']): ('55555', 5)\n"
     ]
    }
   ],
   "source": [
    "# a `docstring` summarizes this function\n",
    "def longest(sequences):\n",
    "    \"\"\" return the longest element of `sequences` \"\"\"\n",
    "    longest_element = None\n",
    "    max_length = 0\n",
    "    for element in sequences:\n",
    "        if max_length < len(element):\n",
    "            max_length = len(element)\n",
    "            longest_element = element\n",
    "    return (longest_element, max_length) # return a tuple\n",
    "\n",
    "print('longest([]):', longest([]))\n",
    "print(\"longest(['', '333', '1', '55555']):\", longest(['', '333', '1', '55555']))"
   ]
  },
  {
   "cell_type": "code",
   "execution_count": 3,
   "metadata": {},
   "outputs": [
    {
     "name": "stdout",
     "output_type": "stream",
     "text": [
      "f(): None\n"
     ]
    }
   ],
   "source": [
    "# a function that doesn't use return always returns `None`\n",
    "print('f():', f())"
   ]
  },
  {
   "cell_type": "markdown",
   "metadata": {},
   "source": [
    "`longest` defines two variables, `longest_element` and `max_length`. These are *local* variables, which are available only inside the function, after they're declared:"
   ]
  },
  {
   "cell_type": "code",
   "execution_count": 4,
   "metadata": {},
   "outputs": [
    {
     "ename": "NameError",
     "evalue": "name 'longest_element' is not defined",
     "output_type": "error",
     "traceback": [
      "\u001b[0;31m---------------------------------------------------------------------------\u001b[0m",
      "\u001b[0;31mNameError\u001b[0m                                 Traceback (most recent call last)",
      "\u001b[0;32m<ipython-input-4-3513f307aacb>\u001b[0m in \u001b[0;36m<module>\u001b[0;34m()\u001b[0m\n\u001b[0;32m----> 1\u001b[0;31m \u001b[0mprint\u001b[0m\u001b[0;34m(\u001b[0m\u001b[0;34m'longest_element'\u001b[0m\u001b[0;34m,\u001b[0m \u001b[0mlongest_element\u001b[0m\u001b[0;34m)\u001b[0m\u001b[0;34m\u001b[0m\u001b[0m\n\u001b[0m",
      "\u001b[0;31mNameError\u001b[0m: name 'longest_element' is not defined"
     ]
    }
   ],
   "source": [
    "print('longest_element', longest_element)"
   ]
  },
  {
   "cell_type": "markdown",
   "metadata": {},
   "source": [
    "Local variables are helpful, because they reduce or eliminate the possibility that a new variable name will overwrite and change the name of an existing variable. But local variables will obscure existing global definitions.\n",
    "Many Python components, including functions, modules, classes, methods in classes, and others, support local variables."
   ]
  },
  {
   "cell_type": "code",
   "execution_count": null,
   "metadata": {},
   "outputs": [],
   "source": [
    "x = 3\n",
    "def g():\n",
    "    x = 'mom'\n",
    "    print('x in g():', x)\n",
    "g()\n",
    "print('global x:', x)\n",
    "\n",
    "tmp = type\n",
    "def type(x):\n",
    "    print('typing', x)\n",
    "type(3)"
   ]
  },
  {
   "cell_type": "code",
   "execution_count": null,
   "metadata": {},
   "outputs": [],
   "source": [
    "type = tmp\n",
    "print(type(3))"
   ]
  },
  {
   "cell_type": "markdown",
   "metadata": {},
   "source": [
    "A function call contains *arguments* that correspond to the parameters in the function's definition."
   ]
  },
  {
   "cell_type": "code",
   "execution_count": null,
   "metadata": {},
   "outputs": [],
   "source": [
    "def type_check(my_str, my_int, my_float):\n",
    "    # isinstance(object, classinfo), return true if `object` is an instance of `classinfo` argument, or ...\n",
    "    if not isinstance(my_str, str):\n",
    "        print(\"my_str '{}' is not a string\".format(my_str))\n",
    "    if not isinstance(my_int, int):\n",
    "        print(\"my_int '{}' is not an integer\".format(my_int))\n",
    "    if not isinstance(my_float, float):\n",
    "        print(\"my_float '{}' is not a float\".format(my_float))\n",
    "print(\"type_check('a', 3, 2.3):\")\n",
    "type_check('a', 3, 2.3)\n",
    "print(\"type_check(3, 'a', 2.5):\")\n",
    "type_check(3, 'a', 2.5)"
   ]
  },
  {
   "cell_type": "markdown",
   "metadata": {},
   "source": [
    "Function calls must use the right number of arguments.\n",
    "\n",
    "A function can modify arguments that are mutable, but cannot modify immutable arguments."
   ]
  },
  {
   "cell_type": "code",
   "execution_count": null,
   "metadata": {},
   "outputs": [],
   "source": [
    "def test_mod_args(my_str, my_int, my_list, my_set):\n",
    "    my_str = my_str + '...'\n",
    "    my_int = my_int + 1\n",
    "    my_list.append('in test_mod_args')\n",
    "    my_set.add('in test_mod_args')\n",
    "\n",
    "my_str, my_int, my_list, my_set = 'hi mom', 37, [1, 'x'], {'a', 'a', 'z'}\n",
    "test_mod_args(my_str, my_int, my_list, my_set)\n",
    "print('my_str:', my_str)\n",
    "print('my_int:', my_int)\n",
    "print('my_list:', my_list)\n",
    "print('my_set:', my_set)\n",
    "# note that immutable objects do not have any methods that modify them"
   ]
  },
  {
   "cell_type": "markdown",
   "metadata": {},
   "source": [
    "*Keyword* parameters are named parameters with default values. All *positional* parameters must come before any keyword parameters. Keyword parameters are *optional*, which makes them very handy for optional features in functions.\n",
    "\n",
    "For example, the built-in [sort()](https://python.readthedocs.io/en/latest/library/stdtypes.html#lists) method on lists has the signature `sort(self, key=None, reverse=False)`. `key` specifies a function of one argument that create a comparison key for each list element. If `reverse` is `True`, then the list elements are sorted in reverse order."
   ]
  },
  {
   "cell_type": "code",
   "execution_count": null,
   "metadata": {},
   "outputs": [],
   "source": [
    "# sort() modifies a list in-place\n",
    "l = ['Bill', 'can', 'already', 'drive', 'Crazily', 'fast']\n",
    "m = l.copy()\n",
    "m.sort()\n",
    "print('l.sort():', m)\n",
    "m = l.copy()\n",
    "m.sort(reverse=True)\n",
    "print('l.sort(reverse=True):', m)\n",
    "m = l.copy()\n",
    "m.sort(key=str.lower)\n",
    "print('l.sort(key=str.lower):', m)"
   ]
  },
  {
   "cell_type": "markdown",
   "metadata": {},
   "source": [
    "Keyword arguments can be provided in any order. A popular library that uses many [keyword arguments](https://matplotlib.org/api/_as_gen/matplotlib.pyplot.plot.html) (which is often abbreviated *kwargs*) is [matplotlib](https://matplotlib.org/), which makes publication quality 2D scientific plots."
   ]
  },
  {
   "cell_type": "code",
   "execution_count": null,
   "metadata": {},
   "outputs": [],
   "source": [
    "%matplotlib notebook\n",
    "import matplotlib.pyplot as plt\n",
    "import numpy as np\n",
    "x = np.linspace(0, 2, 100)\n",
    "\n",
    "plt.plot(x, x, label='linear', linestyle='-.')\n",
    "plt.plot(x, x**2, label='quadratic', linewidth=5)\n",
    "plt.plot(x, x**3, label='cubic', color='black')\n",
    "\n",
    "plt.xlabel('x label')\n",
    "plt.ylabel('y label')\n",
    "\n",
    "plt.legend()\n",
    "plt.show()"
   ]
  },
  {
   "cell_type": "markdown",
   "metadata": {},
   "source": [
    "*Doc Strings* are strings that are attached to a Python structure. In functions, the *Doc strings* are placed within the body of the function, immediately after the `def` line. The goal of *Doc Strings* is to be used as documentation for this structure.\n",
    "\n",
    "Syntax:\n",
    "\n",
    "    def func(parameter1, parameter2=default_value):\n",
    "        \"\"\"\n",
    "        Doc String\n",
    "        \"\"\"\n",
    "        <code block>\n",
    "        return value\n",
    "\n",
    "The parameters with *default* value must be declared after the ones without *default* value.\n",
    "\n",
    "Example (factorial with recursion):"
   ]
  },
  {
   "cell_type": "markdown",
   "metadata": {},
   "source": [
    "Advanced function topics include:\n",
    "+ passing positional arguments in lists or tuples, and kwargs in dictionaries\n",
    "+ nested functions\n",
    "+ recursion\n",
    "+ decorators\n",
    "+ `eval()`\n"
   ]
  },
  {
   "cell_type": "code",
   "execution_count": null,
   "metadata": {},
   "outputs": [],
   "source": [
    "# Factorial implemented with recursion\n",
    "\n",
    "def factorial(num):\n",
    "\n",
    "    if num <= 1:\n",
    "        return 1\n",
    "    else:\n",
    "        return(num * factorial(num - 1))\n",
    "\n",
    "# Testing factorial()\n",
    "print factorial(5)"
   ]
  },
  {
   "cell_type": "markdown",
   "metadata": {},
   "source": [
    "Example (factorial without recursion):"
   ]
  },
  {
   "cell_type": "code",
   "execution_count": null,
   "metadata": {},
   "outputs": [],
   "source": [
    "def fatorial(n):\n",
    "\n",
    "    n = n if n > 1 else 1\n",
    "    j = 1\n",
    "    for i in range(1, n + 1):\n",
    "        j = j * i\n",
    "    return j\n",
    "\n",
    "# Testing...\n",
    "for i in range(1, 6):\n",
    "    print i, '->', fatorial(i)"
   ]
  },
  {
   "cell_type": "markdown",
   "metadata": {},
   "source": [
    "Example (Fibonacci series with recursion):"
   ]
  },
  {
   "cell_type": "code",
   "execution_count": null,
   "metadata": {},
   "outputs": [],
   "source": [
    "def fib(n):\n",
    "    \"\"\"Fibonacci:\n",
    "    fib(n) = fib(n - 1) + fib(n - 2) se n > 1\n",
    "    fib(n) = 1 se n <= 1\n",
    "    \"\"\"\n",
    "    if n > 1:\n",
    "        return fib(n - 1) + fib(n - 2)\n",
    "    else:\n",
    "        return 1\n",
    "\n",
    "# Show Fibonacci from 1 to 5\n",
    "for i in [1, 2, 3, 4, 5]:\n",
    "    print i, '=>', fib(i)"
   ]
  },
  {
   "cell_type": "markdown",
   "metadata": {},
   "source": [
    "Example of how to get all parameters:"
   ]
  },
  {
   "cell_type": "code",
   "execution_count": null,
   "metadata": {},
   "outputs": [],
   "source": [
    "# *args - arguments without name (list)\n",
    "# **kargs - arguments with name (ditcionary)\n",
    "\n",
    "def func(*args, **kargs):\n",
    "    print args\n",
    "    print kargs\n",
    "\n",
    "func('weigh', 10, unit='k')"
   ]
  },
  {
   "cell_type": "markdown",
   "metadata": {},
   "source": [
    "In the example, `kargs` will receive the named arguments and `args` will receive the others.\n",
    "\n",
    "The interpreter has some *builtin* functions defined, including `sorted()`, which orders sequences, and `cmp()`, which makes comparisons between two arguments and returns -1 if the first element is greater, 0 (zero) if they are equal, or 1 if the latter is higher. This function is used by the routine of ordering, a behavior that can be modified.\n",
    "\n",
    "Example:"
   ]
  },
  {
   "cell_type": "code",
   "execution_count": null,
   "metadata": {},
   "outputs": [],
   "source": [
    "data = [(4, 3), (5, 1), (7, 2), (9, 0)]\n",
    "\n",
    "# Comparing by the last element\n",
    "def _cmp(x, y):\n",
    "    return cmp(x[-1], y[-1])\n",
    "\n",
    "print 'List:', data\n",
    "\n",
    "# Ordering using  _cmp()\n",
    "print 'Ordered:', sorted(data, _cmp)"
   ]
  },
  {
   "cell_type": "markdown",
   "metadata": {},
   "source": [
    "Python also has a *builtin* function `eval()`, which evaluates code (source or object) and returns the value.\n",
    "\n",
    "Example:"
   ]
  },
  {
   "cell_type": "code",
   "execution_count": null,
   "metadata": {},
   "outputs": [],
   "source": [
    "print eval('12. / 2 + 3.3')"
   ]
  },
  {
   "cell_type": "markdown",
   "metadata": {},
   "source": [
    "With that it's possible to mount code to be passed to the interpreter during the execution of a program. This feature should be used with caution because code assembled from system inputs open up security holes."
   ]
  }
 ],
 "metadata": {
  "kernelspec": {
   "display_name": "Python 3",
   "language": "python",
   "name": "python3"
  },
  "language_info": {
   "codemirror_mode": {
    "name": "ipython",
    "version": 3
   },
   "file_extension": ".py",
   "mimetype": "text/x-python",
   "name": "python",
   "nbconvert_exporter": "python",
   "pygments_lexer": "ipython3",
   "version": "3.6.5"
  }
 },
 "nbformat": 4,
 "nbformat_minor": 1
}
