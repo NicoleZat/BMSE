{
 "cells": [
  {
   "cell_type": "markdown",
   "metadata": {},
   "source": [
    "## Chapter 7: Class composition and inheritance\n",
    "\n",
    "\n",
    "**[Arthur Goldberg](https://www.mountsinai.org/profiles/arthur-p-goldberg)**\n",
    "\n",
    "This notebook was created for the [Biomedical Software Engineering](https://learn.mssm.edu/webapps/blackboard/content/listContentEditable.jsp?content_id=_448512_1&course_id=_5776_1 \"Biomedical Software Engineering Blackboard site\") course at the [Mount Sinai School of Medicine](https://icahn.mssm.edu/).\n",
    "### Topics\n",
    "+ Composition\n",
    "+ Inheritance, and its benefits\n",
    "+ Abstract classes\n",
    "#### Composition\n",
    "Classes use other classes with *composition*."
   ]
  },
  {
   "cell_type": "code",
   "execution_count": 1,
   "metadata": {},
   "outputs": [
    {
     "name": "stdout",
     "output_type": "stream",
     "text": [
      "id: 23; gender: female\n",
      "sample.count(): 0\n",
      "sample.count(): 2\n",
      "sample.get(78) id: 78; gender: male\n"
     ]
    }
   ],
   "source": [
    "# composition of sexes, subjects and samples\n",
    "from enum import Enum\n",
    "\n",
    "class Sex(Enum):\n",
    "    female = 1\n",
    "    male = 2\n",
    "    unknown = 3\n",
    "\n",
    "class Subject(object):\n",
    "    \"\"\"An individual human in a study\"\"\"\n",
    "    def __init__(self, id, gender):\n",
    "        self.id = id\n",
    "        self.gender = gender\n",
    "\n",
    "    def __str__(self):\n",
    "        return \"id: {}; gender: {}\".format(self.id, self.gender.name)\n",
    "\n",
    "subject_1 = Subject(23, Sex.female)\n",
    "print(subject_1)\n",
    "\n",
    "class Sample(object):\n",
    "    \"\"\"A set of subjects in a study\"\"\"\n",
    "    def __init__(self, name):\n",
    "        self.id = name\n",
    "        self.subjects = {}\n",
    "\n",
    "    def add(self, subject):\n",
    "        # todo: check that subject is not already in this Sample\n",
    "        self.subjects[subject.id] = subject\n",
    "        \n",
    "    def get(self, id):\n",
    "        # todo: better error if subject not in this Sample\n",
    "        return self.subjects[id]\n",
    "        \n",
    "    def count(self):\n",
    "        \"\"\"Number of subjects\"\"\"\n",
    "        return len(self.subjects)\n",
    "\n",
    "    # todo: add methods delete, get_all, make_table\n",
    "\n",
    "subject_2 = Subject(78, Sex.male)\n",
    "sample = Sample('example_sample')\n",
    "print('sample.count():', sample.count())\n",
    "sample.add(subject_1)\n",
    "sample.add(subject_2)\n",
    "print('sample.count():', sample.count())\n",
    "print('sample.get(78)', sample.get(78))\n",
    "# print(sample.get('not in'))"
   ]
  },
  {
   "cell_type": "markdown",
   "metadata": {},
   "source": [
    "#### Inheritance, and its benefits\n",
    "Inheritance reuses existing class(es). It provides a fine-grained form of reuse, and enables hierarchical refinement.\n",
    "\n",
    "The new class is the *derived* or *subclass* class and the reused class is the *base* or *superclass* class. An instance of a dervied class can access the attributes (data and methods) of its base class. It may also override them. The [`super()`](https://docs.python.org/3/library/functions.html#super) function accesses methods in the base class.\n",
    "\n",
    "All classes inherit from Python's built-in `object`."
   ]
  },
  {
   "cell_type": "code",
   "execution_count": 2,
   "metadata": {},
   "outputs": [
    {
     "name": "stdout",
     "output_type": "stream",
     "text": [
      "id: 1\n",
      "name: pi\n",
      "data: 3.1416\n"
     ]
    }
   ],
   "source": [
    "class Root(object):\n",
    "    # manages id and name\n",
    "    def __init__(self, id, name):\n",
    "        self.id = id\n",
    "        self.name = name\n",
    "    def get_id(self):\n",
    "        return self.id\n",
    "    def get_name(self):\n",
    "        return self.name\n",
    "\n",
    "class DataElement(Root):\n",
    "    # manage a data element\n",
    "    def __init__(self, id, name, data):\n",
    "        self.data = data\n",
    "        super().__init__(id, name)\n",
    "\n",
    "data_element = DataElement(1, 'pi', 3.1416)\n",
    "# get id and name from the base class\n",
    "print('id:', data_element.get_id())\n",
    "print('name:', data_element.get_name())\n",
    "print('data:', data_element.data)"
   ]
  },
  {
   "cell_type": "code",
   "execution_count": 3,
   "metadata": {},
   "outputs": [
    {
     "name": "stdout",
     "output_type": "stream",
     "text": [
      "2 e 2.7 'a great constant'\n",
      "AnnotatedDataElement in an instance of object : True\n",
      "AnnotatedDataElement in an instance of Root : True\n",
      "AnnotatedDataElement in an instance of DataElement : True\n",
      "AnnotatedDataElement in an instance of AnnotatedDataElement : True\n",
      "AnnotatedDataElement in an instance of float : False\n"
     ]
    }
   ],
   "source": [
    "class AnnotatedDataElement(DataElement):\n",
    "    # add annotation to a data element\n",
    "    def __init__(self, id, name, data, annotation):\n",
    "        self.annotation = annotation\n",
    "        super().__init__(id, name, data)\n",
    "\n",
    "annotated_data_element = AnnotatedDataElement(2, 'e', 2.7, 'a great constant')\n",
    "ade = annotated_data_element\n",
    "print(ade.id, ade.name, ade.data, \"'{}'\".format(ade.annotation))\n",
    "\n",
    "# illustrate the inheritance hierarchry\n",
    "for obj in [object, Root, DataElement, AnnotatedDataElement, float]:\n",
    "    print('AnnotatedDataElement in an instance of', obj.__name__,\n",
    "          ':', isinstance(annotated_data_element, obj))"
   ]
  }
 ],
 "metadata": {
  "kernelspec": {
   "display_name": "Python 3",
   "language": "python",
   "name": "python3"
  },
  "language_info": {
   "codemirror_mode": {
    "name": "ipython",
    "version": 3
   },
   "file_extension": ".py",
   "mimetype": "text/x-python",
   "name": "python",
   "nbconvert_exporter": "python",
   "pygments_lexer": "ipython3",
   "version": "3.6.5"
  }
 },
 "nbformat": 4,
 "nbformat_minor": 2
}
