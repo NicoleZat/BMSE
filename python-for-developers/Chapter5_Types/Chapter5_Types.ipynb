{
 "cells": [
  {
   "cell_type": "markdown",
   "metadata": {},
   "source": [
    "Ricardo Duarte, [Python for Developers](http://ricardoduarte.github.io/python-for-developers/#content \"Python for Developers on GitHub\")\n",
    "==========================\n",
    "\n",
    "**Adapted by [Arthur Goldberg](https://www.mountsinai.org/profiles/arthur-p-goldberg) for the [Biomedical Software Engineering](https://learn.mssm.edu/webapps/blackboard/content/listContentEditable.jsp?content_id=_448512_1&course_id=_5776_1 \"Biomedical Software Engineering Blackboard site\") course at the Mount Sinai School of Medicine**\n",
    "\n",
    "Chapter 5: Types\n",
    "=============================\n",
    "\n",
    "A Python *type* defines the characteristics of an *object* (more about objects later) in a Python program. Python has built-in types, and custom, programmer-defined types. *Every* object has a specific type. Example [built-in types](https://docs.python.org/3/library/stdtypes.html) include integers, strings, lists, sets, programs, and type itself. We will learn how to define custom types when we study Python objects.\n",
    "\n",
    "Objects in Python are frequently created. E.g., this statement creates a string object which contains `hello, world`, and stores a reference to it in the variable `hi`. Using `hi` accesses the string."
   ]
  },
  {
   "cell_type": "code",
   "execution_count": 1,
   "metadata": {},
   "outputs": [
    {
     "name": "stdout",
     "output_type": "stream",
     "text": [
      "hi.upper(): HELLO, WORLD\n"
     ]
    }
   ],
   "source": [
    "hi = 'hello, world'\n",
    "print('hi.upper():', hi.upper())"
   ]
  },
  {
   "cell_type": "markdown",
   "metadata": {},
   "source": [
    "(If you're wondering what happens to all of the objects that get created - don't they fill up memory? - be reassured that objects which cannot be used anymore are deleted, in a process called *garbage collection*.)\n",
    "\n",
    "Variable names must start with a letter or underscore (`_`) and be followed by letters, digits or underscores.  They may not contain any other characters. Uppercase and lowercase letters are considered different. \n",
    "\n",
    "Python has many built-in, standard types, including:\n",
    "\n",
    "+ Numeric (integer, float, complex, ... )\n",
    "+ Strings\n",
    "\n",
    "Numerics\n",
    "--------"
   ]
  },
  {
   "cell_type": "code",
   "execution_count": 2,
   "metadata": {},
   "outputs": [
    {
     "name": "stdout",
     "output_type": "stream",
     "text": [
      "x, y: 3.14 3.142857142857143\n",
      "NA ~=  6.02e+23\n",
      "0.1 + 0.2 = 0.30000000000000004\n"
     ]
    }
   ],
   "source": [
    "# integers\n",
    "i = 3\n",
    "j = int(3)  # make an integer from 3; this is redundant\n",
    "k = int('3') # convert string '3' to an int\n",
    "# what does this do?\n",
    "# l = int('hi')\n",
    "\n",
    "# floats\n",
    "x = 3.14\n",
    "y = 22/7  # the results of math expressions that are not integers are floats\n",
    "print('x, y:', x, y)\n",
    "\n",
    "# scientific notation is supported\n",
    "print('NA ~= ', 6.02E23)\n",
    "# unless a value can be exactly represented in binary, a float is approximate\n",
    "print('0.1 + 0.2 =', 0.1 + 0.2)"
   ]
  },
  {
   "cell_type": "markdown",
   "metadata": {},
   "source": [
    "Data structures\n",
    "-----------\n",
    "Python provides a wonderful, extensive set of powerful, high-performance, built-in data structures. These include:\n",
    "\n",
    "+ List\n",
    "+ Tuple\n",
    "+ Set\n",
    "+ String\n",
    "+ Dictionary\n",
    "\n",
    "These types support many operations. Some operations, such as [truth testing](https://docs.python.org/3/library/stdtypes.html#truth-value-testing), are supported by all objects including these, and others, such as 'contains' are only supported by a some of them.\n",
    "\n",
    "Lists and tuples\n",
    "-----"
   ]
  },
  {
   "cell_type": "code",
   "execution_count": 3,
   "metadata": {},
   "outputs": [
    {
     "name": "stdout",
     "output_type": "stream",
     "text": [
      "1 in list_1: True\n",
      "1 in tuple_1: True\n",
      "list_1[2]: 3\n",
      "tuple_1[2]: 3\n",
      "\n",
      "list_1[-1]: 3\n",
      "tuple_1[-1]: 10\n",
      "\n",
      "tuple(list_1): (1, 2, 3, 10, 3)\n",
      "list(tuple_1): [1, 2, 3, 10]\n"
     ]
    }
   ],
   "source": [
    "# lists and tuples\n",
    "# these are both sequences that support common sequence operations, but lists can be changed whereas tuples cannot\n",
    "list_1 = [1, 2, 3, 10]\n",
    "tuple_1 = (1, 2, 3, 10)\n",
    "print('1 in list_1:', 1 in list_1)\n",
    "print('1 in tuple_1:', 1 in tuple_1)\n",
    "print('list_1[2]:', list_1[2])\n",
    "print('tuple_1[2]:', tuple_1[2])\n",
    "\n",
    "list_1.append(3)\n",
    "# this fails:\n",
    "# tuple_1.append(3)\n",
    "# try it; how can we handle the failure so that the rest of this cell executes?\n",
    "\n",
    "# -1 indicates the last index; negative indices count from the end of the list\n",
    "print('\\nlist_1[-1]:', list_1[-1])\n",
    "print('tuple_1[-1]:', tuple_1[-1])\n",
    "\n",
    "# Lists can be converted into tuples:\n",
    "print('\\ntuple(list_1):', tuple(list_1))\n",
    "\n",
    "# And tuples can be converted into lists:\n",
    "print('list(tuple_1):', list(tuple_1))"
   ]
  },
  {
   "cell_type": "markdown",
   "metadata": {},
   "source": [
    "Note that tuples are printed (converted to a string) in parens '(1, 2, 3, 10, 3)', and the string representation of a list is enclosed in square brackets '[...]'. `str` is the function that does this conversion. Many objects support a `str` function."
   ]
  },
  {
   "cell_type": "code",
   "execution_count": 4,
   "metadata": {},
   "outputs": [
    {
     "data": {
      "text/plain": [
       "'[1, 2, 3, 10, 3]'"
      ]
     },
     "execution_count": 4,
     "metadata": {},
     "output_type": "execute_result"
    }
   ],
   "source": [
    "str(list_1)"
   ]
  },
  {
   "cell_type": "code",
   "execution_count": 5,
   "metadata": {},
   "outputs": [
    {
     "data": {
      "text/plain": [
       "'(1, 2, 3, 10)'"
      ]
     },
     "execution_count": 5,
     "metadata": {},
     "output_type": "execute_result"
    }
   ],
   "source": [
    "str(tuple_1)"
   ]
  },
  {
   "cell_type": "markdown",
   "metadata": {},
   "source": [
    "The types list and tuple, like all other types we mention in this notebook, support [many operations](https://docs.python.org/3/library/stdtypes.html#sequence-types-list-tuple-range) we do not describe. I count 11 operations shared by both, and 14 more operations that modify lists.\n",
    "\n",
    "Mutability\n",
    "---\n",
    "Above we saw that lists can be modified, whereas tuples cannot. More generally, some Python  objects can be modified (are *mutable*) and some cannot (are *immutable*). Examples include:\n",
    "\n",
    "+ mutable types: list, set, dictionary\n",
    "+ immutable types: integer, float, string, tuple\n",
    "\n",
    "Later we will see that immutable types serve a special purpose for dictionaries and sets."
   ]
  },
  {
   "cell_type": "markdown",
   "metadata": {},
   "source": [
    "Strings\n",
    "-----\n",
    "A *string* is a Python built-in that handles text.\n",
    "\n",
    "Standard strings represent English and many characters in some Germanic languages. They use 8-bit characters; unicode strings enable the representation of broad, international alphabets, and use 32-bit characters, 4 byte *code words*."
   ]
  },
  {
   "cell_type": "code",
   "execution_count": 6,
   "metadata": {},
   "outputs": [
    {
     "name": "stdout",
     "output_type": "stream",
     "text": [
      "Led Zeppelin\n",
      "Björk\n"
     ]
    }
   ],
   "source": [
    "# standard string\n",
    "s = 'Led Zeppelin'\n",
    "print(s)\n",
    "# Unicode string\n",
    "u = u'Björk'\n",
    "print(u)"
   ]
  },
  {
   "cell_type": "markdown",
   "metadata": {},
   "source": [
    "A *literal* is an explicit object written in a program. We used some integer and float literals above. String *literals* can be provided in multiple ways:"
   ]
  },
  {
   "cell_type": "code",
   "execution_count": 7,
   "metadata": {},
   "outputs": [
    {
     "name": "stdout",
     "output_type": "stream",
     "text": [
      "== string in single quotes ==\n",
      "== in double quotes: don't say it! ==\n",
      "== triple quotes provide multi-\n",
      "line strings!\n",
      "e e cummings loves them ==\n",
      "== triple double quotes are also multi-line, and can embed triple single quotes, like this: '''  ==\n",
      "== also, quote characters can be escaped with backslash: \"stop\", he yelled! ==\n",
      "== to use backslash (\\), escape it like that! ==\n",
      "== join adjacent string literals separated by whitespace -- tada! ==\n",
      "== what is whitespace? ==\n"
     ]
    }
   ],
   "source": [
    "# in single or double quotes\n",
    "literal_examples = [\n",
    "    'string in single quotes',\n",
    "    \"in double quotes: don't say it!\",\n",
    "    '''triple quotes provide multi-\n",
    "line strings!\n",
    "e e cummings loves them''',\n",
    "    \"\"\"triple double quotes are also multi-line, and can embed triple single quotes, like this: ''' \"\"\",\n",
    "    \"also, quote characters can be escaped with backslash: \\\"stop\\\", he yelled!\",\n",
    "    \"to use backslash (\\\\), escape it like that!\",\n",
    "    \"join \" 'adjacent ' '''string literals separated by whitespace '''\n",
    "    '-- tada!',\n",
    "    \"what is whitespace?\"\n",
    "]\n",
    "for example in literal_examples:\n",
    "    print('==', example, '==')"
   ]
  },
  {
   "cell_type": "markdown",
   "metadata": {},
   "source": [
    "As they are immutable, strings cannot be changed. To modify a string, Python reads an existing string and creates a new string with modified characters."
   ]
  },
  {
   "cell_type": "code",
   "execution_count": 8,
   "metadata": {},
   "outputs": [
    {
     "name": "stdout",
     "output_type": "stream",
     "text": [
      "The Camel ran away!\n",
      "'Camel' contains 5 chars\n",
      "C\n",
      "a\n",
      "m\n",
      "e\n",
      "l\n",
      "CAMEL\n",
      "CamelCamelCamel\n"
     ]
    }
   ],
   "source": [
    "s = 'Camel'\n",
    "\n",
    "# Concatenation\n",
    "print('The ' + s + ' ran away!')\n",
    "\n",
    "# Format with variables\n",
    "print(\"'{}' contains {} chars\".format(s, len(s)))\n",
    "\n",
    "# String processed as a sequence\n",
    "for ch in s: print(ch)\n",
    "\n",
    "# Strings are objects\n",
    "# Test initial characters, and convert to uppercase\n",
    "if s.startswith('C'): print(s.upper())\n",
    "\n",
    "# what will happen? \n",
    "print(3 * s)\n",
    "# n * s concatenates n copies of s"
   ]
  },
  {
   "cell_type": "markdown",
   "metadata": {},
   "source": [
    "I use these strings methods regularly: `endswith`, `startswith`, `format` most frequently, `index`, `join`, `split`, and `strip`.\n",
    "\n",
    "I count 45 string methods in the [standard library](https://docs.python.org/3/library/stdtypes.html#text-sequence-type-str) which extend the dozen methods available to all sequence types. Don't try to memorize them -- rather, learn how to search for a method that suits your needs."
   ]
  },
  {
   "cell_type": "markdown",
   "metadata": {},
   "source": [
    "Sets\n",
    "---\n",
    "A set contains unique elements, which may be of any type. Sets are mutable, but their elements must be immutable."
   ]
  },
  {
   "cell_type": "code",
   "execution_count": 28,
   "metadata": {},
   "outputs": [
    {
     "name": "stdout",
     "output_type": "stream",
     "text": [
      "s1: {0, 1}\n",
      "'s1 after adding 'x': {0, 1, 'x'}\n",
      "union s1 and {1, \"bye\"}: {0, 1, 'x', 'bye'}\n",
      "deleted 1: {0, 'x', 'bye'}\n",
      "difference s2-s0: {'x', 'bye'}\n"
     ]
    }
   ],
   "source": [
    "# sets\n",
    "# construct sets from a list\n",
    "s0 = set([0])\n",
    "s1 = set([0, 1])\n",
    "print('s1:', s1)\n",
    "# add the element 'x'\n",
    "s1.add('x')\n",
    "print(\"'s1 after adding 'x':\", s1)\n",
    "\n",
    "# Union\n",
    "# note set literal in { }\n",
    "s2 = s1.union({1, \"bye\"})\n",
    "print('union s1 and {1, \"bye\"}:', s2)\n",
    "\n",
    "# delete\n",
    "s2.discard(1)\n",
    "print('deleted 1:', s2)\n",
    "\n",
    "# difference\n",
    "print('difference s2-s0:', s2-s0)"
   ]
  },
  {
   "cell_type": "markdown",
   "metadata": {},
   "source": [
    "When a list is converted to a *set*, duplicate elements are discarded. Sets support the [obvious](https://docs.python.org/3/tutorial/datastructures.html#sets) operations of intersection, difference, union, add element, delete element, contains, convert to list, etc. Other [operations](https://docs.python.org/3/library/stdtypes.html#set-types-set-frozenset) include issubset, issuperset, pop, and clear.\n",
    "\n",
    "\n",
    "Dictionaries\n",
    "-----------\n",
    "A dictionary is a mapping from keys to corresponding objects. Dictionaries are mutable, like lists. Sets and dictionaries use *hash* tables, so keyed lookups cost O(1).\n",
    "\n",
    "All dictionary keys must be immutable. (Why might mutable keys be problematic?) Any immutable object can be a key, but typical keys are strings, integers, and tuples of these. Iterating over a dictionary can return its elements in any order.\n",
    "\n",
    "Dictionary literals look like:\n",
    "\n",
    "    d = {key_1:obj_1, key_2:obj_2, ..., key_n:obj_n}"
   ]
  },
  {
   "cell_type": "code",
   "execution_count": 29,
   "metadata": {},
   "outputs": [
    {
     "name": "stdout",
     "output_type": "stream",
     "text": [
      "\n",
      "Use items() to iterate over the items in a dict\n",
      "Albany is the capital of NY\n",
      "Boston is the capital of MA\n",
      "Hartford is the capital of CT\n",
      "{'Phoenix': 'Arizona', 'Sacramento': 'California', 'Olympia': 'Washington'}\n",
      "{'Phoenix': 'Arizona', 'Sacramento': 'California', 'Olympia': 'Washington'}\n"
     ]
    }
   ],
   "source": [
    "capitals = {\n",
    "    'Albany': 'NY',\n",
    "    'Boston': 'MA',\n",
    "    'Hartford': 'CT'\n",
    "}\n",
    "print('\\nUse items() to iterate over the items in a dict')\n",
    "for key, value in capitals.items():\n",
    "    print(key, 'is the capital of', value)\n",
    "\n",
    "# dictionaries can also be constructed with dict()\n",
    "# it takes a sequence of key-value pairs:\n",
    "western_capitals = dict(\n",
    "    [('Phoenix', 'Arizona'),\n",
    "    ('Sacramento', 'California'),\n",
    "    ('Olympia', 'Washington')]\n",
    ")\n",
    "print(western_capitals)\n",
    "\n",
    "# dict also takes keyword arguments:\n",
    "western_capitals = dict(\n",
    "    Phoenix='Arizona',\n",
    "    Sacramento='California',\n",
    "    Olympia='Washington'\n",
    ")\n",
    "print(western_capitals)"
   ]
  },
  {
   "cell_type": "code",
   "execution_count": 30,
   "metadata": {},
   "outputs": [
    {
     "name": "stdout",
     "output_type": "stream",
     "text": [
      "\n",
      "keys() provides an iterator over the keys in a dictionary:\n",
      "dict_keys(['Phoenix', 'Sacramento', 'Olympia'])\n",
      "\n",
      "and values() provides an iterator over the values:\n",
      "dict_values(['Arizona', 'California', 'Washington'])\n",
      "\n",
      "Olympia is the capital of Washington\n",
      "\n",
      "sorted(western_capitals.values() (with Alaska): ['Alaska', 'Arizona', 'California', 'Washington']\n",
      "\n",
      "'Sacramento' in western_capitals False\n"
     ]
    }
   ],
   "source": [
    "# more dict operations\n",
    "print('\\nkeys() provides an iterator over the keys in a dictionary:')\n",
    "print(western_capitals.keys())\n",
    "\n",
    "print('\\nand values() provides an iterator over the values:')\n",
    "print(western_capitals.values())\n",
    "\n",
    "# entries are addressed via []s:\n",
    "# they can be retrieved\n",
    "print('\\nOlympia is the capital of', western_capitals['Olympia'])\n",
    "\n",
    "# and assigned\n",
    "western_capitals['Juneau'] = 'Alaska'\n",
    "print('\\nsorted(western_capitals.values() (with Alaska):', sorted(western_capitals.values()))\n",
    "\n",
    "# and deleted\n",
    "del western_capitals['Sacramento']\n",
    "print(\"\\n'Sacramento' in western_capitals\", 'Sacramento' in western_capitals)"
   ]
  },
  {
   "cell_type": "markdown",
   "metadata": {},
   "source": [
    "Booleans\n",
    "------------------------\n",
    "\n",
    "### Boolean constants: True and False\n",
    "In Python, the boolean type (*bool*) takes the values `True` and `False`."
   ]
  },
  {
   "cell_type": "code",
   "execution_count": 11,
   "metadata": {},
   "outputs": [
    {
     "name": "stdout",
     "output_type": "stream",
     "text": [
      "Boolean type: <class 'bool'>\n"
     ]
    }
   ],
   "source": [
    "print('Boolean type:', type(True))"
   ]
  },
  {
   "cell_type": "markdown",
   "metadata": {},
   "source": [
    "### Boolean values for data structures"
   ]
  },
  {
   "cell_type": "code",
   "execution_count": 12,
   "metadata": {},
   "outputs": [
    {
     "name": "stdout",
     "output_type": "stream",
     "text": [
      "int False\n",
      "str False\n",
      "list False\n",
      "tuple False\n",
      "dict False\n",
      "set False\n",
      "range False\n"
     ]
    }
   ],
   "source": [
    "# Empty data structures are False; these \n",
    "# Empty literals\n",
    "for example_type, empty_literal in [\n",
    "    ('int', 0),\n",
    "    ('str', \"\"),\n",
    "    ('list', []),\n",
    "    ('tuple', ()),\n",
    "    ('dict', {}),\n",
    "    ('set', set()),\n",
    "    ('range', range(0))]:\n",
    "    empty_literal_boolean = True if empty_literal else False\n",
    "    print(example_type, empty_literal_boolean)"
   ]
  },
  {
   "cell_type": "code",
   "execution_count": 13,
   "metadata": {},
   "outputs": [
    {
     "name": "stdout",
     "output_type": "stream",
     "text": [
      "int True\n",
      "str True\n",
      "list True\n",
      "tuple False\n",
      "dict True\n",
      "set True\n",
      "range True\n"
     ]
    }
   ],
   "source": [
    "# Non-empty data structures are True\n",
    "for example_type, non_empty_literal in [\n",
    "    ('int', 1),\n",
    "    ('str', \"x\"),\n",
    "    ('list', [1]),\n",
    "    ('tuple', (0)),\n",
    "    ('dict', {1:2}),\n",
    "    ('set', {'hi'}),\n",
    "    ('range', range(3))]:\n",
    "    non_empty_literal_boolean = True if non_empty_literal else False\n",
    "    print(example_type, non_empty_literal_boolean)"
   ]
  },
  {
   "cell_type": "markdown",
   "metadata": {},
   "source": [
    "### Boolean Operations\n",
    "\n",
    "Use Boolean operators to construct logical expressions that direct control flow. Because all types have truth values, any object can be incorporated in a boolean expression.\n",
    "\n",
    "The (Boolean operators in Python)[https://docs.python.org/3/library/stdtypes.html#boolean-operations-and-or-not] are: `and`, `or`, and `not`.\n",
    "\n",
    "These are *short-circuit operators* which do not make unnecessary operations:\n",
    "+ `and`: if the first argument is false, do not evaluate the second argument\n",
    "+ `or` : if the first argument is true, do not evaluate the second argument\n",
    "\n",
    "Boolean operators do not convert their arguments to Boolean values:\n",
    "+ `and`: if the first argument is false, return it, otherwise return the second argument\n",
    "+ `or` : if the first argument is true, return it, otherwise return the second argument\n",
    "\n",
    "Examples:"
   ]
  },
  {
   "cell_type": "code",
   "execution_count": 14,
   "metadata": {},
   "outputs": [
    {
     "name": "stdout",
     "output_type": "stream",
     "text": [
      "0 and 3: 0\n",
      "2 and [3]: [3]\n",
      "0 or [3]: [3]\n",
      "'first' or False: first\n"
     ]
    }
   ],
   "source": [
    "print('0 and 3:', 0 and 3) # computes 0\n",
    "print('2 and [3]:', 2 and [3]) # computes [3]\n",
    "\n",
    "print('0 or [3]:', 0 or [3]) # computes [3]\n",
    "print(\"'first' or False:\", 'first' or False) # computes 'first'"
   ]
  },
  {
   "cell_type": "markdown",
   "metadata": {},
   "source": [
    "### Practical uses\n",
    "This behavior makes Boolean operators useful for selecting among objects. E.g.,\n",
    "\n",
    "    `error_messages or data`\n",
    "\n",
    "will evaluate to the error messages if it is true (not an empty list) otherwise provide the data."
   ]
  },
  {
   "cell_type": "markdown",
   "metadata": {},
   "source": [
    "On the other hand, `not` does return Boolean values:"
   ]
  },
  {
   "cell_type": "code",
   "execution_count": 15,
   "metadata": {},
   "outputs": [
    {
     "name": "stdout",
     "output_type": "stream",
     "text": [
      "not 0: True\n",
      "not [5]: False\n"
     ]
    }
   ],
   "source": [
    "print('not 0:', not 0) # Shows True\n",
    "print('not [5]:', not [5]) # Shows False\n"
   ]
  },
  {
   "cell_type": "code",
   "execution_count": 16,
   "metadata": {},
   "outputs": [
    {
     "data": {
      "text/html": [
       "<style>\n",
       "table {float:left}\n",
       "</style>"
      ],
      "text/plain": [
       "<IPython.core.display.HTML object>"
      ]
     },
     "metadata": {},
     "output_type": "display_data"
    }
   ],
   "source": [
    "%%html\n",
    "<style>\n",
    "table {float:left}\n",
    "</style>"
   ]
  },
  {
   "cell_type": "markdown",
   "metadata": {},
   "source": [
    "Comparisons\n",
    "-----------\n",
    "The Python [comparison operations](https://docs.python.org/3/library/stdtypes.html#comparisons) return Boolean values. They are:\n",
    "\n",
    "|Operation | Meaning\n",
    "| :---: | :---:\n",
    "\\< | strictly less than\n",
    "\\<= | less than or equal\n",
    "\\> | strictly greater than\n",
    "\\>= | greater than or equal\n",
    "== | equal\n",
    "!= | not equal\n",
    "is | object identity\n",
    "is not | negated object identity\n",
    "\n"
   ]
  },
  {
   "cell_type": "code",
   "execution_count": 17,
   "metadata": {},
   "outputs": [
    {
     "name": "stdout",
     "output_type": "stream",
     "text": [
      "'2 < 3': True\n",
      "\n",
      "Python nicely chains comparisons:\n",
      "'2 < 3 <= 2': False\n",
      "\n",
      "== evaluates whether 2 objects have the same value:\n",
      "'2 == 2': True\n",
      "'x == y': True\n",
      "\n",
      "'is' evaluates whether 2 objects are the same object:\n",
      "'x is y': False\n",
      "'x is x': True\n",
      "'x is not y': True\n"
     ]
    }
   ],
   "source": [
    "print(\"'2 < 3':\", 2 < 3)\n",
    "print('\\nPython nicely chains comparisons:')\n",
    "print(\"'2 < 3 <= 2':\", 2 < 3 <= 2)\n",
    "\n",
    "print('\\n== evaluates whether 2 objects have the same value:')\n",
    "print(\"'2 == 2':\", 2 == 2)\n",
    "x = [3]\n",
    "y = [3]\n",
    "print(\"'x == y':\", x == y)\n",
    "\n",
    "print(\"\\n'is' evaluates whether 2 objects are the same object:\")\n",
    "print(\"'x is y':\", x is y)\n",
    "print(\"'x is x':\", x is x)\n",
    "print(\"'x is not y':\", x is not y)"
   ]
  },
  {
   "cell_type": "markdown",
   "metadata": {},
   "source": [
    "### None\n",
    "`None` is a built-in value that represents no information."
   ]
  },
  {
   "cell_type": "code",
   "execution_count": 18,
   "metadata": {},
   "outputs": [
    {
     "name": "stdout",
     "output_type": "stream",
     "text": [
      "None\n",
      "None has a special type: type(None): <class 'NoneType'>\n",
      "\n",
      "'None only equals None:\n",
      "Test equality: 3 == None: False\n",
      "None == None: True\n",
      "None is None: True\n"
     ]
    }
   ],
   "source": [
    "print(None)\n",
    "print('None has a special type: type(None):', type(None))\n",
    "\n",
    "print(\"\\n'None only equals None:\")\n",
    "print('Test equality: 3 == None:', 3==None)\n",
    "print('None == None:', None == None)\n",
    "print('None is None:', None is None)"
   ]
  }
 ],
 "metadata": {
  "kernelspec": {
   "display_name": "Python 3",
   "language": "python",
   "name": "python3"
  },
  "language_info": {
   "codemirror_mode": {
    "name": "ipython",
    "version": 3
   },
   "file_extension": ".py",
   "mimetype": "text/x-python",
   "name": "python",
   "nbconvert_exporter": "python",
   "pygments_lexer": "ipython3",
   "version": "3.6.5"
  }
 },
 "nbformat": 4,
 "nbformat_minor": 1
}
